{
 "cells": [
  {
   "attachments": {},
   "cell_type": "markdown",
   "metadata": {},
   "source": [
    "<center><h1>TP1 RCR2:</h1></center>\n",
    "<center><h2>Logique des fonctions de croyances</h2></center>"
   ]
  },
  {
   "cell_type": "code",
   "execution_count": 2,
   "metadata": {},
   "outputs": [
    {
     "name": "stdout",
     "output_type": "stream",
     "text": [
      "Expert 1\n",
      "m_1 = { {'M'}: 0.45, {'F'}: 0.4,  {'C'}: 0.15}\n",
      "Expert 2\n",
      "m_2 = { {'M'}: 0.75, set(): 0.25}\n",
      "Expert 3\n",
      "m_3 = { {'C'}: 0.5, {'M'}: 0.35, {'B'}: 0.18, {'N'}: 0.02}\n"
     ]
    }
   ],
   "source": [
    "from pyds import MassFunction\n",
    "\n",
    "# affichage des masses pour chaque expert\n",
    "\n",
    "print(\"Expert 1\")\n",
    "m1 = MassFunction({'F': 0.4, 'M': 0.45, 'C': 0.15})\n",
    "print(\"m_1 = { {'M'}: 0.45, {'F'}: 0.4,  {'C'}: 0.15}\")\n",
    "print(\"m_1 = \", m1)\n",
    "\n",
    "print(\"Expert 2\")\n",
    "print(\"m_2 = { {'M'}: 0.75, set(): 0.25}\")\n",
    "m2 = MassFunction({'M': 0.75, '': 0.25})\n",
    "print(\"m_2 = \", m2)\n",
    "\n",
    "print(\"Expert 3\")\n",
    "m3 = MassFunction({'B': 0.18, 'M': 0.35, 'C': 0.5, 'N': 0.02})\n",
    "print(\"m_3 = \", m3)"
   ]
  },
  {
   "cell_type": "code",
   "execution_count": null,
   "metadata": {},
   "outputs": [],
   "source": [
    "#affichage de croyance et plausibilité pour chaque expert\n",
    "print(\"Croyance et possibilité pour l'expert 1\")\n",
    "print(\"bel_1 = \", m1.bel())\n",
    "print(\"pl_1 = \", m1.pl())\n",
    "\n",
    "print(\"Croyance et possibilité pour l'expert 2\")\n",
    "print(\"bel_2 = \", m2.bel())\n",
    "print(\"pl_2 = \", m2.pl())\n",
    "\n",
    "print(\"Croyance et possibilité pour l'expert 3\")\n",
    "print(\"bel_3 = \", m3.bel())\n",
    "print(\"pl_3 = \", m3.pl())"
   ]
  },
  {
   "cell_type": "code",
   "execution_count": null,
   "metadata": {},
   "outputs": [],
   "source": [
    "#combinaisons des masses par fusion de Dempster-Shafer\n",
    "print(\"Dempster-Shafer Combinaison rule\")\n",
    "print(\"Dempster-Shafer Combinaison rule for m_1 and m_2 = \", m1 & m2)\n",
    "print(\"Dempster-Shafer Combinaison rule for m_2 and m_3 = \", m2 & m3)\n",
    "print(\"Dempster-Shafer Combinaison rule for m_1 and m_3 = \", m1 & m3)\n",
    "\n",
    "print(\"Dempster-Shafer Combinaison rule for m_1, m_2 and m_3 = \", m1.combine_conjunctive(m2, m3))\n",
    "print(\"Dempster-Shafer Combinaison rule for m_2, m_1 and m_3 = \", m2.combine_conjunctive(m1, m3))\n",
    "print(\"Dempster-Shafer Combinaison rule for m_3, m_1 and m_2 = \", m3.combine_conjunctive(m1, m2))"
   ]
  },
  {
   "cell_type": "code",
   "execution_count": null,
   "metadata": {},
   "outputs": [],
   "source": [
    "#Solution exercice 4\n",
    "def exercice4():\n",
    "    print(\"Exercice 4\")\n",
    "    print(\"Expert 1\")\n",
    "    \n",
    "    m1 = MassFunction({'F': 0.4, 'M': 0.45, 'C': 0.15})\n",
    "    print(\"m_1 = { {'M'}: 0.45, {'F'}: 0.4,  {'C'}: 0.15}\")\n",
    "    print(\"m_1 = \", m1)\n",
    "\n",
    "    print(\"Expert 2\")\n",
    "    print(\"m_2 = { {'M'}: 0.75, set(): 0.25}\")\n",
    "    m2 = MassFunction({'M': 0.75, '': 0.25})\n",
    "    print(\"m_2 = \", m2)\n",
    "\n",
    "    print(\"Expert 3\")\n",
    "    m3 = MassFunction({'B': 0.18, 'M': 0.35, 'C': 0.5, 'N': 0.02})\n",
    "    print(\"m_3 = \", m3)\n",
    "\n",
    "    print(\"\\n----------------------------------------------\\n\")\n",
    "    print(\"Croyance et possibilité pour l'expert 1\")\n",
    "    print(\"bel_1 = \", m1.bel())\n",
    "    print(\"pl_1 = \", m1.pl())\n",
    "    print(\"\\n----------------------------------------------\\n\")"
   ]
  }
 ],
 "metadata": {
  "kernelspec": {
   "display_name": "Python 3",
   "language": "python",
   "name": "python3"
  },
  "language_info": {
   "codemirror_mode": {
    "name": "ipython",
    "version": 3
   },
   "file_extension": ".py",
   "mimetype": "text/x-python",
   "name": "python",
   "nbconvert_exporter": "python",
   "pygments_lexer": "ipython3",
   "version": "3.8.6"
  },
  "orig_nbformat": 4,
  "vscode": {
   "interpreter": {
    "hash": "59e7fbdb10f88ebb840e0eae9f7068b500ae2fc1cd1508cf05034406aceb4604"
   }
  }
 },
 "nbformat": 4,
 "nbformat_minor": 2
}
