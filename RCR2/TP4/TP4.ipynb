{
 "cells": [
  {
   "attachments": {},
   "cell_type": "markdown",
   "metadata": {},
   "source": [
    "<center><h1>TP4 RCR2:</h1></center>\n",
    "<center><h2>logique possibiliste qualitative</h2></center>"
   ]
  },
  {
   "attachments": {},
   "cell_type": "markdown",
   "metadata": {},
   "source": [
    "## 0) Importation des librairies nécessaire"
   ]
  },
  {
   "cell_type": "code",
   "execution_count": 31,
   "metadata": {},
   "outputs": [],
   "source": [
    "import random\n",
    "import os\n",
    "import pycosat"
   ]
  },
  {
   "attachments": {},
   "cell_type": "markdown",
   "metadata": {},
   "source": [
    "## 1) Création de notre base de connaissance"
   ]
  },
  {
   "cell_type": "code",
   "execution_count": null,
   "metadata": {},
   "outputs": [],
   "source": [
    "class BaseConnaissance:\n",
    "    number_of_clause   = 0\n",
    "    number_of_variable = 0\n",
    "    evidence_length = 0\n",
    "    var_list = []\n",
    "    max_clause_length = 0\n",
    "\n",
    "    def __init__(self,nb_clause,nb_variable,length,max_number):\n",
    "        self.number_of_clause = nb_clause\n",
    "        self.number_of_variable = nb_variable\n",
    "        self.evidence_length = length\n",
    "        self.max_clause_length = max_number\n",
    "        for i in range(self.number_of_variable):\n",
    "            self.var_list.append(i+1)\n",
    "            self.var_list.append(-(i+1))\n",
    "\n",
    "    def get_evidence(self):\n",
    "        return random.sample(self.var_list, self.evidence_length)\n",
    "\n",
    "    def get_sigma(self):\n",
    "        os.system(\"touch temp.txt\")\n",
    "        sigma_file = open(\"temp.txt\",\"w\")\n",
    "        for i in range(self.number_of_clause):\n",
    "            ran = random.randrange(1,self.max_clause_length + 1,1)\n",
    "            temp_list = random.sample(self.var_list, ran)\n",
    "            weight = random.random()\n",
    "            weight = float(int(weight*100))/100\n",
    "            chaine = \"\" + str(weight)+ \" \"\n",
    "            for i in range(len(temp_list)):\n",
    "                chaine = chaine + str(temp_list[i]) + \" \"\n",
    "            sigma_file.write(chaine + \"\\n\")\n",
    "            temp_list=[]\n",
    "        sigma_file.close()"
   ]
  },
  {
   "attachments": {},
   "cell_type": "markdown",
   "metadata": {},
   "source": [
    "## 2) Traitement de notre base de connaissance"
   ]
  },
  {
   "cell_type": "code",
   "execution_count": 32,
   "metadata": {},
   "outputs": [],
   "source": [
    "class Sigma:\n",
    "    lower = 0\n",
    "    upper = 0\n",
    "    weights = []\n",
    "    formulas = []\n",
    "    strates_weights = []\n",
    "    def __init__(self,path_file): \n",
    "        file = open(path_file)\n",
    "        for line in file:\n",
    "            information = line.split()\n",
    "            size = len(information)\n",
    "            self.weights.append(float(information[0]))\n",
    "            self.formulas.append([int(information[i]) for i in range(size) if i != 0]) \n",
    "        self.length = len(self.weights)\n",
    "        file.close()\n",
    "\n",
    "    def get_length(self):\n",
    "        return self.length\n",
    "\n",
    "    def get_weights(self):\n",
    "        return self.weights\n",
    "\n",
    "    def get_formulas(self):\n",
    "        return self.formulas\n",
    "\n",
    "    def sort_weights(self): \n",
    "        for i in range(len(self.weights)-1, 0, -1):\n",
    "            for j in range(i):\n",
    "                if self.weights[j] < self.weights[j+1]:\n",
    "                    self.weights[j], self.weights[j+1] = self.weights[j+1], self.weights[j]\n",
    "                    self.formulas[j], self.formulas[j+1] = self.formulas[j+1], self.formulas[j]\n",
    "\n",
    "    def compute_strates(self): \n",
    "        no_doubles = set(self.weights)\n",
    "        self.upper = len(no_doubles)\n",
    "        self.strates_weights = sorted(no_doubles)\n",
    "\n",
    "    def get_strates_number(self):\n",
    "        return self.upper\n",
    "\n",
    "    def get_strates_weights(self):\n",
    "        return self.strates_weights\n",
    "\n",
    "    def get_preprocessed_formulas(self,sub_formulas):\n",
    "        dict_cor={}\n",
    "        returned_formulas=[]\n",
    "        cpt=1\n",
    "        i=0\n",
    "        for form in sub_formulas:\n",
    "            j=0\n",
    "            returned_formulas.insert(i,[])\n",
    "            for pred in form:\n",
    "                if(pred not in dict_cor.keys()):\n",
    "                    if(int(pred)>0):\n",
    "                        dict_cor[int(pred)]=cpt\n",
    "                        dict_cor[-int(pred)]=-cpt\n",
    "                        cpt+=1\n",
    "                    else:\n",
    "                        dict_cor[-int(pred)]=cpt\n",
    "                        dict_cor[int(pred)]=-cpt\n",
    "                        cpt+=1\n",
    "                returned_formulas[i].insert(j,dict_cor[pred])\n",
    "                j+=1\n",
    "            i+=1\n",
    "        return returned_formulas\n"
   ]
  },
  {
   "attachments": {},
   "cell_type": "markdown",
   "metadata": {},
   "source": [
    "## 3) Création et exécution de notre algorithme d'inférence"
   ]
  },
  {
   "cell_type": "code",
   "execution_count": 34,
   "metadata": {},
   "outputs": [
    {
     "name": "stdout",
     "output_type": "stream",
     "text": [
      "L'exécution d'une base de connaissance qui contient : \n",
      "0.6 1 2\n",
      "0.55 2 3\n",
      "0.5 -2\n",
      "0.4 4\n",
      "0.3 5\n",
      "0.2 6\n",
      "Et avec une évidence de :  [1, -2, -3]\n",
      "Donne le résultat suivant : Val([1, -2, -3], Sigma) = 0.5\n"
     ]
    }
   ],
   "source": [
    "choice = 1 \n",
    "if choice == 1 :\n",
    "    base_de_connaissance = Sigma(\"file.wcnf\") #Specification of file\n",
    "    evidence = [1,-2,-3]\n",
    "else :\n",
    "    nb_clause   = 8\n",
    "    nb_variable = 5\n",
    "    length    = 3\n",
    "    max_number = 4\n",
    "    gen = BaseConnaissance(nb_clause,nb_variable,length,max_number)\n",
    "    gen.get_sigma()\n",
    "    base_de_connaissance = Sigma(\"temp.txt\")\n",
    "    evidence = gen.get_evidence()\n",
    "\n",
    "base_de_connaissance.sort_weights()\n",
    "base_de_connaissance.compute_strates() \n",
    "iteration = 1\n",
    "while base_de_connaissance.lower < base_de_connaissance.upper:\n",
    "    r =int( (base_de_connaissance.lower + base_de_connaissance.upper + 1)/2)\n",
    "    \n",
    "    liste = base_de_connaissance.get_weights()\n",
    "    value_of_r =-1\n",
    "    for i in range(len(liste)):\n",
    "        if(base_de_connaissance.get_strates_weights()[r-1]>liste[i]):\n",
    "            value_of_r = i\n",
    "            break\n",
    "    if value_of_r==-1:\n",
    "        value_of_r = len(liste)-1\n",
    "    \n",
    "    for j in range(len(liste)):\n",
    "        if base_de_connaissance.get_strates_weights()[base_de_connaissance.upper-1] == liste[j] :\n",
    "            valueU = j\n",
    "            break\n",
    "    cnf = base_de_connaissance.formulas[valueU:value_of_r]\n",
    "    \n",
    "    for i in range(len(evidence)):\n",
    "        liste = []\n",
    "        liste.append(-1 * evidence[i])\n",
    "        cnf.append(liste)\n",
    "    cnf = base_de_connaissance.get_preprocessed_formulas(cnf)\n",
    "\n",
    "    result = pycosat.solve(cnf)\n",
    "    if type(result) == type([]): \n",
    "        base_de_connaissance.upper = r - 1\n",
    "\n",
    "    else:\n",
    "        base_de_connaissance.lower = r\n",
    "\n",
    "    iteration = iteration + 1\n",
    "\n",
    "Val = base_de_connaissance.get_strates_weights()[r-1]\n",
    "\n",
    "f = open(\"file.wcnf\")\n",
    "content = f.read().splitlines()\n",
    "print(\"L'exécution d'une base de connaissance qui contient : \")\n",
    "for c in content:\n",
    "    print(c)\n",
    "print(\"Et avec une évidence de : \",evidence)\n",
    "print(\"Donne le résultat suivant : Val(\"+str(evidence)+\", Sigma) = \"+str(Val))"
   ]
  }
 ],
 "metadata": {
  "kernelspec": {
   "display_name": "Python 3",
   "language": "python",
   "name": "python3"
  },
  "language_info": {
   "codemirror_mode": {
    "name": "ipython",
    "version": 3
   },
   "file_extension": ".py",
   "mimetype": "text/x-python",
   "name": "python",
   "nbconvert_exporter": "python",
   "pygments_lexer": "ipython3",
   "version": "3.8.6 (tags/v3.8.6:db45529, Sep 23 2020, 15:52:53) [MSC v.1927 64 bit (AMD64)]"
  },
  "orig_nbformat": 4,
  "vscode": {
   "interpreter": {
    "hash": "59e7fbdb10f88ebb840e0eae9f7068b500ae2fc1cd1508cf05034406aceb4604"
   }
  }
 },
 "nbformat": 4,
 "nbformat_minor": 2
}
