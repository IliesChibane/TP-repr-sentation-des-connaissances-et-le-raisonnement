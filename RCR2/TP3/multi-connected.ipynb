{
 "cells": [
  {
   "attachments": {},
   "cell_type": "markdown",
   "metadata": {},
   "source": [
    "<center><h1>TP3 RCR2:</h1></center>\n",
    "<center><h2>Réseaux Bayésiens</h2></center>\n",
    "<center><h3>Conception d’un arbre multi-connected</h3></center>"
   ]
  },
  {
   "cell_type": "code",
   "execution_count": 1,
   "metadata": {},
   "outputs": [
    {
     "data": {
      "text/plain": [
       "[<TabularCPD representing P(F:2) at 0x1b40d7cb220>,\n",
       " <TabularCPD representing P(N:2 | F:2) at 0x1b40d76fe80>,\n",
       " <TabularCPD representing P(Ne:2 | F:2, N:2) at 0x1b40d7cb310>,\n",
       " <TabularCPD representing P(B:2 | R:2, Ne:2) at 0x1b40d7cb250>,\n",
       " <TabularCPD representing P(R:2) at 0x1b40d7cb280>]"
      ]
     },
     "execution_count": 1,
     "metadata": {},
     "output_type": "execute_result"
    }
   ],
   "source": [
    "from pgmpy.factors.discrete import TabularCPD\n",
    "from pgmpy.models import BayesianNetwork\n",
    "\n",
    "#Etablissement de la structure\n",
    "weather_model = BayesianNetwork([\n",
    "    ('F','N'),\n",
    "    ('F','Ne'),\n",
    "    ('N','Ne'),\n",
    "    ('Ne','B'),\n",
    "    ('R','B'),\n",
    "    ])\n",
    "\n",
    "#Définition des relations\n",
    "froid_cpd= TabularCPD(\n",
    "    variable='F',\n",
    "    variable_card= 2,\n",
    "    values=[[.75],[.25]]\n",
    ")\n",
    "\n",
    "nuage_cpd= TabularCPD(\n",
    "    variable='N',\n",
    "    variable_card=2,\n",
    "    values=[[.6,.3],\n",
    "    [.4,.7]],\n",
    "    evidence=['F'],\n",
    "    evidence_card=[2]\n",
    ")\n",
    "\n",
    "neige_cpd= TabularCPD(\n",
    "    variable='Ne',\n",
    "    variable_card=2,\n",
    "    values=[\n",
    "    [.99,.8,.7,.4], [.01,.2,.3,.6]],\n",
    "    evidence=['F','N'],\n",
    "    evidence_card=[2,2]\n",
    ")\n",
    "\n",
    "route_frequente_cpd= TabularCPD(\n",
    "    variable='R',\n",
    "    variable_card=2,\n",
    "    values=[[.6],[.4]]\n",
    ")\n",
    "\n",
    "route_bloque_cpd= TabularCPD(\n",
    "    variable='B',\n",
    "    variable_card=2,\n",
    "    values=[[.9,.4,.2,.3], [.1,.6,.8,.7]],\n",
    "    evidence=['R','Ne'],\n",
    "    evidence_card=[2,2]\n",
    ")\n",
    "\n",
    "#on ajoute les relation à notre model\n",
    "weather_model.add_cpds(froid_cpd,\n",
    "nuage_cpd,neige_cpd,route_bloque_cpd,route_frequente_cpd)\n",
    "#reverifier la structure de notre model\n",
    "weather_model.get_cpds()"
   ]
  },
  {
   "cell_type": "code",
   "execution_count": 3,
   "metadata": {},
   "outputs": [
    {
     "name": "stdout",
     "output_type": "stream",
     "text": [
      "{'F': {'F', 'B', 'Ne', 'N'}}\n",
      "\n",
      "{'B': {'R', 'F', 'N', 'Ne', 'B'}}\n",
      "\n",
      "{'Ne': {'B', 'F', 'Ne', 'N'}}\n"
     ]
    }
   ],
   "source": [
    "#trouver les chemins des noeuds pour determiner qu'est ce qui donne des infos sur un noeud\n",
    "print(weather_model.active_trail_nodes('F'))\n",
    "print()\n",
    "\n",
    "print(weather_model.active_trail_nodes('B'))\n",
    "print()\n",
    "\n",
    "print(weather_model.active_trail_nodes('Ne'))"
   ]
  },
  {
   "cell_type": "code",
   "execution_count": 4,
   "metadata": {},
   "outputs": [
    {
     "name": "stdout",
     "output_type": "stream",
     "text": [
      "(F ⟂ R)\n",
      "\n",
      "(Ne ⟂ R | F, N)\n",
      "\n",
      "(B ⟂ F, N | R, Ne)\n",
      "\n"
     ]
    },
    {
     "data": {
      "text/plain": [
       "(F ⟂ R)\n",
       "(F ⟂ R, B | Ne)\n",
       "(F ⟂ R | N)\n",
       "(F ⟂ B | R, Ne)\n",
       "(F ⟂ R | B, Ne)\n",
       "(F ⟂ R, B | Ne, N)\n",
       "(F ⟂ B | R, Ne, N)\n",
       "(F ⟂ R | B, Ne, N)\n",
       "(R ⟂ F, Ne, N)\n",
       "(R ⟂ Ne, N | F)\n",
       "(R ⟂ F, N | Ne)\n",
       "(R ⟂ F, Ne | N)\n",
       "(R ⟂ N | F, Ne)\n",
       "(R ⟂ Ne | F, N)\n",
       "(R ⟂ F, N | B, Ne)\n",
       "(R ⟂ F | Ne, N)\n",
       "(R ⟂ N | F, B, Ne)\n",
       "(R ⟂ F | B, Ne, N)\n",
       "(Ne ⟂ R)\n",
       "(Ne ⟂ R | F)\n",
       "(Ne ⟂ R | N)\n",
       "(Ne ⟂ R | F, N)\n",
       "(N ⟂ R)\n",
       "(N ⟂ R | F)\n",
       "(N ⟂ B, R | Ne)\n",
       "(N ⟂ B, R | F, Ne)\n",
       "(N ⟂ R | B, Ne)\n",
       "(N ⟂ B | R, Ne)\n",
       "(N ⟂ R | F, B, Ne)\n",
       "(N ⟂ B | F, Ne, R)\n",
       "(B ⟂ F, N | Ne)\n",
       "(B ⟂ N | F, Ne)\n",
       "(B ⟂ F | Ne, N)\n",
       "(B ⟂ F, N | R, Ne)\n",
       "(B ⟂ N | F, Ne, R)\n",
       "(B ⟂ F | R, Ne, N)"
      ]
     },
     "execution_count": 4,
     "metadata": {},
     "output_type": "execute_result"
    }
   ],
   "source": [
    "#determinaison des independances locales\n",
    "print(weather_model.local_independencies('F'))\n",
    "print()\n",
    "\n",
    "print(weather_model.local_independencies('Ne'))\n",
    "print()\n",
    "\n",
    "print(weather_model.local_independencies('B'))\n",
    "print()\n",
    "\n",
    "weather_model.get_independencies()"
   ]
  },
  {
   "cell_type": "code",
   "execution_count": 5,
   "metadata": {},
   "outputs": [
    {
     "name": "stdout",
     "output_type": "stream",
     "text": [
      "+------+----------+\n",
      "| F    |   phi(F) |\n",
      "+======+==========+\n",
      "| F(0) |   0.7500 |\n",
      "+------+----------+\n",
      "| F(1) |   0.2500 |\n",
      "+------+----------+\n"
     ]
    }
   ],
   "source": [
    "from pgmpy.inference import VariableElimination\n",
    "weather_infer = VariableElimination(weather_model)\n",
    "#calcul des proba existante pour vérifier que tout est correct\n",
    "prob_froid = weather_infer.query(variables=['F'])\n",
    "print(prob_froid)"
   ]
  },
  {
   "cell_type": "code",
   "execution_count": 6,
   "metadata": {},
   "outputs": [
    {
     "name": "stdout",
     "output_type": "stream",
     "text": [
      "+------+----------+\n",
      "| B    |   phi(B) |\n",
      "+======+==========+\n",
      "| B(0) |   0.5701 |\n",
      "+------+----------+\n",
      "| B(1) |   0.4299 |\n",
      "+------+----------+\n"
     ]
    }
   ],
   "source": [
    "#faire un autre calcul de proba\n",
    "prob_bloque= weather_infer.query(variables=['B'])\n",
    "print(prob_bloque)"
   ]
  },
  {
   "cell_type": "code",
   "execution_count": 8,
   "metadata": {},
   "outputs": [
    {
     "name": "stdout",
     "output_type": "stream",
     "text": [
      "+------+----------+\n",
      "| B    |   phi(B) |\n",
      "+======+==========+\n",
      "| B(0) |   0.4874 |\n",
      "+------+----------+\n",
      "| B(1) |   0.5126 |\n",
      "+------+----------+\n"
     ]
    }
   ],
   "source": [
    "#probabilité d'avoir une route bloqué quand il fait froid (proba conditionelle)\n",
    "proba_bloque_froid = weather_infer.query(variables=['B'], evidence= {'F':1}) \n",
    "print(proba_bloque_froid)"
   ]
  },
  {
   "cell_type": "code",
   "execution_count": 7,
   "metadata": {},
   "outputs": [
    {
     "name": "stdout",
     "output_type": "stream",
     "text": [
      "+-------+-----------+\n",
      "| Ne    |   phi(Ne) |\n",
      "+=======+===========+\n",
      "| Ne(0) |    0.8000 |\n",
      "+-------+-----------+\n",
      "| Ne(1) |    0.2000 |\n",
      "+-------+-----------+\n"
     ]
    }
   ],
   "source": [
    "#probabilité d'avoir de la neige quand il fait pas froid mais quand il y a des nuages\n",
    "proba_neige_nonFroidetNuage = weather_infer.query(variables=['Ne'], evidence= {'F':0, 'N':1}) \n",
    "print(proba_neige_nonFroidetNuage)"
   ]
  }
 ],
 "metadata": {
  "kernelspec": {
   "display_name": "Python 3",
   "language": "python",
   "name": "python3"
  },
  "language_info": {
   "codemirror_mode": {
    "name": "ipython",
    "version": 3
   },
   "file_extension": ".py",
   "mimetype": "text/x-python",
   "name": "python",
   "nbconvert_exporter": "python",
   "pygments_lexer": "ipython3",
   "version": "3.8.6"
  },
  "orig_nbformat": 4,
  "vscode": {
   "interpreter": {
    "hash": "59e7fbdb10f88ebb840e0eae9f7068b500ae2fc1cd1508cf05034406aceb4604"
   }
  }
 },
 "nbformat": 4,
 "nbformat_minor": 2
}
