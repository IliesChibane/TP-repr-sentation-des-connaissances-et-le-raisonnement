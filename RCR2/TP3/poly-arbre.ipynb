{
 "cells": [
  {
   "attachments": {},
   "cell_type": "markdown",
   "metadata": {},
   "source": [
    "<center><h1>TP3 RCR2:</h1></center>\n",
    "<center><h2>Réseaux Bayésiens</h2></center>\n",
    "<center><h3>Construction d un poly-arbre</h3></center>"
   ]
  },
  {
   "cell_type": "code",
   "execution_count": 2,
   "metadata": {},
   "outputs": [
    {
     "data": {
      "text/plain": [
       "[<TabularCPD representing P(V:2) at 0x267fb77b340>,\n",
       " <TabularCPD representing P(S:2 | A:2) at 0x267fb77bfd0>,\n",
       " <TabularCPD representing P(C:2 | V:2, A:2) at 0x267fb78bfa0>,\n",
       " <TabularCPD representing P(A:2) at 0x267fb77b400>,\n",
       " <TabularCPD representing P(H:2 | C:2) at 0x267fb77a0d0>]"
      ]
     },
     "execution_count": 2,
     "metadata": {},
     "output_type": "execute_result"
    }
   ],
   "source": [
    "from pgmpy.factors.discrete import TabularCPD\n",
    "from pgmpy.models import BayesianNetwork\n",
    "#Etablissement de la structure\n",
    "medical_model = BayesianNetwork([\n",
    "    ('V','C'),\n",
    "    ('A','C'),\n",
    "    ('C','H'),\n",
    "    ('A','S'),\n",
    "])\n",
    "#Définition des relations\n",
    "vaccin_cpd= TabularCPD(\n",
    "    variable='V',\n",
    "    variable_card= 2,\n",
    "    values=[[.6], [.4]]\n",
    ")\n",
    "adulte_cpd= TabularCPD(\n",
    "    variable='A',\n",
    "    variable_card= 2,\n",
    "    values=[[.7], [.3]]\n",
    ")\n",
    "sportif_cpd= TabularCPD(\n",
    "    variable='S',\n",
    "    variable_card=2,\n",
    "    values=[[.8,.9],\n",
    "    [.2,.1]],\n",
    "    evidence=['A'],\n",
    "    evidence_card=[2]\n",
    ")\n",
    "covid_cpd= TabularCPD(\n",
    "    variable='C',\n",
    "    variable_card=2,\n",
    "    values=[[.7,.8,.95,.8], [.3,.2,.05,.2]],\n",
    "    evidence=['V','A'],\n",
    "    evidence_card=[2,2]\n",
    ")\n",
    "hospital_cpd= TabularCPD(\n",
    "    variable='H',\n",
    "    variable_card=2,\n",
    "    values=[[.9,.95], [.1,.05]],\n",
    "    evidence=['C'],\n",
    "    evidence_card=[2]\n",
    ")\n",
    "#on ajoute les relation à notre model\n",
    "medical_model.add_cpds(vaccin_cpd,\n",
    "sportif_cpd,covid_cpd,adulte_cpd,hospital_cpd)\n",
    "#reverifier la structure de notre model\n",
    "medical_model.get_cpds()"
   ]
  },
  {
   "cell_type": "code",
   "execution_count": 5,
   "metadata": {},
   "outputs": [
    {
     "name": "stdout",
     "output_type": "stream",
     "text": [
      "{'A': {'A', 'C', 'S', 'H'}}\n",
      "\n",
      "{'H': {'A', 'V', 'C', 'S', 'H'}}\n",
      "\n",
      "{'C': {'A', 'V', 'C', 'S', 'H'}}\n",
      "\n"
     ]
    }
   ],
   "source": [
    "#trouver les chemins des noeuds pour determiner qu'est ce qui donne des infos sur un noeud\n",
    "print(medical_model.active_trail_nodes('A'))\n",
    "print()\n",
    "\n",
    "print(medical_model.active_trail_nodes('H'))\n",
    "print()\n",
    "\n",
    "print(medical_model.active_trail_nodes('C'))"
   ]
  },
  {
   "cell_type": "code",
   "execution_count": 6,
   "metadata": {},
   "outputs": [
    {
     "name": "stdout",
     "output_type": "stream",
     "text": [
      "(S ⟂ C, H, V | A)\n",
      "\n",
      "(H ⟂ A, S, V | C)\n",
      "\n",
      "(A ⟂ V)\n",
      "\n"
     ]
    },
    {
     "data": {
      "text/plain": [
       "(A ⟂ V)\n",
       "(A ⟂ H | C)\n",
       "(A ⟂ V | S)\n",
       "(A ⟂ H | C, S)\n",
       "(A ⟂ H | C, V)\n",
       "(A ⟂ H | C, S, V)\n",
       "(V ⟂ A, S)\n",
       "(V ⟂ H | C)\n",
       "(V ⟂ A | S)\n",
       "(V ⟂ S | A)\n",
       "(V ⟂ H | C, S)\n",
       "(V ⟂ S, H | C, A)\n",
       "(V ⟂ S | A, H)\n",
       "(V ⟂ H | C, S, A)\n",
       "(V ⟂ S | C, H, A)\n",
       "(C ⟂ S | A)\n",
       "(C ⟂ S | A, H)\n",
       "(C ⟂ S | A, V)\n",
       "(C ⟂ S | A, H, V)\n",
       "(S ⟂ V)\n",
       "(S ⟂ H | C)\n",
       "(S ⟂ C, H, V | A)\n",
       "(S ⟂ H | C, V)\n",
       "(S ⟂ H, V | C, A)\n",
       "(S ⟂ C, H | A, V)\n",
       "(S ⟂ C, V | A, H)\n",
       "(S ⟂ H | A, C, V)\n",
       "(S ⟂ V | C, H, A)\n",
       "(S ⟂ C | A, H, V)\n",
       "(H ⟂ A, S, V | C)\n",
       "(H ⟂ S | A)\n",
       "(H ⟂ A, S | C, V)\n",
       "(H ⟂ A, V | C, S)\n",
       "(H ⟂ S, V | C, A)\n",
       "(H ⟂ S | A, V)\n",
       "(H ⟂ A | C, S, V)\n",
       "(H ⟂ S | A, C, V)\n",
       "(H ⟂ V | C, S, A)"
      ]
     },
     "execution_count": 6,
     "metadata": {},
     "output_type": "execute_result"
    }
   ],
   "source": [
    "#determinaison des independances locales\n",
    "print(medical_model.local_independencies('S'))\n",
    "print()\n",
    "\n",
    "print(medical_model.local_independencies('H'))\n",
    "print()\n",
    "\n",
    "print(medical_model.local_independencies('A'))\n",
    "print()\n",
    "\n",
    "medical_model.get_independencies()"
   ]
  },
  {
   "cell_type": "code",
   "execution_count": 7,
   "metadata": {},
   "outputs": [
    {
     "name": "stdout",
     "output_type": "stream",
     "text": [
      "+------+----------+\n",
      "| V    |   phi(V) |\n",
      "+======+==========+\n",
      "| V(0) |   0.6000 |\n",
      "+------+----------+\n",
      "| V(1) |   0.4000 |\n",
      "+------+----------+\n"
     ]
    }
   ],
   "source": [
    "from pgmpy.inference import VariableElimination\n",
    "medical_infer = VariableElimination(medical_model)\n",
    "#calcul des proba existante pour vérifier que tout est correct\n",
    "prob_vaccin = medical_infer.query(variables=['V'])\n",
    "print(prob_vaccin)"
   ]
  },
  {
   "cell_type": "code",
   "execution_count": 8,
   "metadata": {},
   "outputs": [
    {
     "name": "stdout",
     "output_type": "stream",
     "text": [
      "+------+----------+\n",
      "| H    |   phi(H) |\n",
      "+======+==========+\n",
      "| H(0) |   0.9100 |\n",
      "+------+----------+\n",
      "| H(1) |   0.0900 |\n",
      "+------+----------+\n"
     ]
    }
   ],
   "source": [
    "#faire un autre calcul de proba\n",
    "prob_hospital= medical_infer.query(variables=['H'])\n",
    "print(prob_hospital)"
   ]
  },
  {
   "cell_type": "code",
   "execution_count": 10,
   "metadata": {},
   "outputs": [
    {
     "name": "stdout",
     "output_type": "stream",
     "text": [
      "+------+----------+\n",
      "| C    |   phi(C) |\n",
      "+======+==========+\n",
      "| C(0) |   0.8000 |\n",
      "+------+----------+\n",
      "| C(1) |   0.2000 |\n",
      "+------+----------+\n"
     ]
    }
   ],
   "source": [
    "#probabilité d'avoir le covid si on est sportif\n",
    "proba_covid_sportif = medical_infer.query(variables=['C'], evidence= {'S':1}) \n",
    "print(proba_covid_sportif)"
   ]
  },
  {
   "cell_type": "code",
   "execution_count": 11,
   "metadata": {},
   "outputs": [
    {
     "name": "stdout",
     "output_type": "stream",
     "text": [
      "+------+----------+\n",
      "| H    |   phi(H) |\n",
      "+======+==========+\n",
      "| H(0) |   0.9100 |\n",
      "+------+----------+\n",
      "| H(1) |   0.0900 |\n",
      "+------+----------+\n"
     ]
    }
   ],
   "source": [
    "proba_hospital_adulteNonvaccin = medical_infer.query(variables=['H'], evidence= {'V':0, 'A':1}) \n",
    "print(proba_hospital_adulteNonvaccin)"
   ]
  }
 ],
 "metadata": {
  "kernelspec": {
   "display_name": "Python 3",
   "language": "python",
   "name": "python3"
  },
  "language_info": {
   "codemirror_mode": {
    "name": "ipython",
    "version": 3
   },
   "file_extension": ".py",
   "mimetype": "text/x-python",
   "name": "python",
   "nbconvert_exporter": "python",
   "pygments_lexer": "ipython3",
   "version": "3.8.6"
  },
  "orig_nbformat": 4,
  "vscode": {
   "interpreter": {
    "hash": "59e7fbdb10f88ebb840e0eae9f7068b500ae2fc1cd1508cf05034406aceb4604"
   }
  }
 },
 "nbformat": 4,
 "nbformat_minor": 2
}
